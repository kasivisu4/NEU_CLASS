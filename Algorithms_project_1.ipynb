{
  "nbformat": 4,
  "nbformat_minor": 0,
  "metadata": {
    "colab": {
      "name": "Algorithms_project_1.ipynb",
      "provenance": [],
      "include_colab_link": true
    },
    "kernelspec": {
      "name": "python3",
      "display_name": "Python 3"
    },
    "language_info": {
      "name": "python"
    }
  },
  "cells": [
    {
      "cell_type": "markdown",
      "metadata": {
        "id": "view-in-github",
        "colab_type": "text"
      },
      "source": [
        "<a href=\"https://colab.research.google.com/github/kasivisu4/NEU_CLASS/blob/main/Algorithms_project_1.ipynb\" target=\"_parent\"><img src=\"https://colab.research.google.com/assets/colab-badge.svg\" alt=\"Open In Colab\"/></a>"
      ]
    },
    {
      "cell_type": "code",
      "source": [
        "from google.colab import drive\n",
        "drive.mount('/content/drive')"
      ],
      "metadata": {
        "colab": {
          "base_uri": "https://localhost:8080/"
        },
        "id": "wDc7TM9BYMQ7",
        "outputId": "a2f0784f-9180-4369-88d0-e440bca30dd3"
      },
      "execution_count": 1,
      "outputs": [
        {
          "output_type": "stream",
          "name": "stdout",
          "text": [
            "Mounted at /content/drive\n"
          ]
        }
      ]
    },
    {
      "cell_type": "code",
      "source": [
        "pip install anytree"
      ],
      "metadata": {
        "colab": {
          "base_uri": "https://localhost:8080/"
        },
        "id": "IvZpY9N4ek1M",
        "outputId": "1d2e0b66-6198-410d-c9a5-6a9aec08d338"
      },
      "execution_count": 2,
      "outputs": [
        {
          "output_type": "stream",
          "name": "stdout",
          "text": [
            "Collecting anytree\n",
            "  Downloading anytree-2.8.0-py2.py3-none-any.whl (41 kB)\n",
            "\u001b[?25l\r\u001b[K     |███████▉                        | 10 kB 21.8 MB/s eta 0:00:01\r\u001b[K     |███████████████▊                | 20 kB 26.1 MB/s eta 0:00:01\r\u001b[K     |███████████████████████▋        | 30 kB 16.4 MB/s eta 0:00:01\r\u001b[K     |███████████████████████████████▍| 40 kB 12.1 MB/s eta 0:00:01\r\u001b[K     |████████████████████████████████| 41 kB 294 kB/s \n",
            "\u001b[?25hRequirement already satisfied: six>=1.9.0 in /usr/local/lib/python3.7/dist-packages (from anytree) (1.15.0)\n",
            "Installing collected packages: anytree\n",
            "Successfully installed anytree-2.8.0\n"
          ]
        }
      ]
    },
    {
      "cell_type": "code",
      "source": [
        "import csv\n",
        "from anytree import Node, RenderTree\n",
        "import sys"
      ],
      "metadata": {
        "id": "Y5V8Krl3eNRT"
      },
      "execution_count": 3,
      "outputs": []
    },
    {
      "cell_type": "code",
      "source": [
        "\n",
        "root=Node(\"root\")\n",
        "nodes={}\n",
        "nodes[root.name]=root"
      ],
      "metadata": {
        "id": "Qds_pFhzhiIR"
      },
      "execution_count": 4,
      "outputs": []
    },
    {
      "cell_type": "code",
      "source": [
        "\n",
        "# we create the key representing the start char of every word in the sentence like if the sentence is like \"can we create the key and find similar keys?\" in the alphabet sequence array\n",
        "# The advantage of this approach is that we can find the similar keys in short time\n",
        "# The first_char_array_title will contains [c,w,t,k,a,f,s] unique values\n",
        "# The key will be 10100100001000000011001000 because we assign \n",
        "# \n",
        "# for Char 'c' => arr[2]=1 ; Char 'w' => arr[22]=1 ; Char 't' => arr[19]=1 ; Char 'k' => arr[10]=1 ; Char 'a' => arr[0]=1 ; Char 'f' => arr[5]=1 ; Char 's' => arr[18]=1 ; \n",
        "\n",
        "def create_node_key(title):\n",
        "\n",
        "    char_array = ['0']*26\n",
        "    first_char_array_title =set(map(lambda x: x[0] ,filter(lambda x:x!=\"\",title.strip().split(' '))))\n",
        "\n",
        "    for start_char in first_char_array_title:\n",
        "        index= ord(start_char.lower()) - ord('a')\n",
        "        if  index >=0 and index<=25:\n",
        "            char_array[index] = '1'\n",
        "\n",
        "    key = \"\".join(char_array)\n",
        "    return key\n",
        "\n",
        "# We are finding the similar keys by making the key into binary format and simply using the bitwise and operator to see if the values !=0 which means the key1 and key2 are having similar keys\n",
        "def cmp_key(key1,key2):\n",
        "    return (eval('0b' + key1) & eval('0b' + key2) !=0)"
      ],
      "metadata": {
        "id": "WRyz8x_D0niT"
      },
      "execution_count": 113,
      "outputs": []
    },
    {
      "cell_type": "code",
      "source": [
        "\n",
        "tree_pointer = {}\n",
        "tree_pointer [\"Segment Title\"]={}\n",
        "tree_pointer [\"Family Title\"]={}\n",
        "tree_pointer [\"Class Title\"]={}\n",
        "tree_pointer [\"Commodity Title\"]={}\n",
        "\n",
        "\n",
        "def create_Node(data,title):\n",
        "    try:\n",
        "      global tree_pointer\n",
        "      parent_key=\"\"\n",
        "      if (data[\"key\"].strip()==''):\n",
        "          return\n",
        "\n",
        "      node_key = create_node_key(data['title'])\n",
        "      if node_key in tree_pointer[title]:\n",
        "        parent_key = tree_pointer[title][node_key]\n",
        "    \n",
        "      else:\n",
        "         tree_pointer[title][node_key] = Node(node_key,parent=nodes[title])\n",
        "         parent_key =  tree_pointer[title][node_key]\n",
        "\n",
        "      if not data[\"title\"] in set(map(lambda child: child.name,parent_key.children)):   \n",
        "          Node(data[\"title\"],parent=parent_key,data=data)\n",
        "\n",
        "    except:\n",
        "      print(sys.exc_info()[2])\n",
        "      print(data)"
      ],
      "metadata": {
        "id": "d6F-DGhewIM3"
      },
      "execution_count": 6,
      "outputs": []
    },
    {
      "cell_type": "markdown",
      "source": [
        "Data Extraction from the UNSPSC File and storing the data in the tree structure:"
      ],
      "metadata": {
        "id": "GGcTSfecY65w"
      }
    },
    {
      "cell_type": "code",
      "source": [
        "with open('/content/drive/My Drive/Colab Notebooks/UNSPSC_English.csv',encoding=\"utf8\") as unspsc_file:\n",
        "    [ next(unspsc_file) for _ in range(9)]   \n",
        "    unspsc_reader = csv.DictReader(unspsc_file, delimiter=',')\n",
        "    [ next(unspsc_reader) for _ in range(2)] \n",
        "    titles=[[\"Segment Title\",\"Segment\"],[\"Family Title\",\"Family\"],[\"Class Title\",\"Class\"],[\"Commodity Title\",\"Commodity\"]]\n",
        "    for title in titles:\n",
        "      nodes[title[0]] = Node(title[0],parent=root)\n",
        "\n",
        "    for line in unspsc_reader:\n",
        "      for index in range(0,len(titles)):\n",
        "        create_Node({\"title\" : line[titles[index][0]],\"key\":line[titles[index][1]]},titles[index][0])\n",
        "\n",
        "          \n"
      ],
      "metadata": {
        "id": "rO05LAG2X9JP"
      },
      "execution_count": 7,
      "outputs": []
    },
    {
      "cell_type": "markdown",
      "source": [
        "**Unique Values of titles in UNSPSC File**\n",
        "\n",
        "---\n",
        "\n"
      ],
      "metadata": {
        "id": "X6NrWjt-Qgfi"
      }
    },
    {
      "cell_type": "code",
      "source": [
        "\n",
        "print(\"Segement Title Children Count: \",len(nodes[\"Segment Title\"].leaves),\"                 Segement Title leaves Count: \",len(nodes[\"Segment Title\"].children))\n",
        "\n",
        "print(\"Family Title Children Count: \",len(nodes[\"Family Title\"].leaves),\"                  Family Title leaves Count: \",len(nodes[\"Family Title\"].children))\n",
        "\n",
        "print(\"Class Title Children Count: \",len(nodes[\"Class Title\"].leaves),\"                  Class Title leaves Count: \",len(nodes[\"Class Title\"].children))\n",
        "\n",
        "print(\"Commodity Title Children Count: \",len(nodes[\"Commodity Title\"].leaves),\"            Commodity Title leaves Count: \",len(nodes[\"Commodity Title\"].children))"
      ],
      "metadata": {
        "colab": {
          "base_uri": "https://localhost:8080/"
        },
        "id": "r67wSihmME-P",
        "outputId": "877e85e5-6c76-41d3-a353-64700f2663d3"
      },
      "execution_count": 8,
      "outputs": [
        {
          "output_type": "stream",
          "name": "stdout",
          "text": [
            "Segement Title Children Count:  57                  Segement Title leaves Count:  56\n",
            "Family Title Children Count:  546                   Family Title leaves Count:  413\n",
            "Class Title Children Count:  7902                   Class Title leaves Count:  3176\n",
            "Commodity Title Children Count:  147893             Commodity Title leaves Count:  28908\n"
          ]
        }
      ]
    },
    {
      "cell_type": "code",
      "source": [
        "from anytree.exporter import DotExporter\n",
        "DotExporter(root).to_picture(\"root.png\")"
      ],
      "metadata": {
        "id": "5gu-98LgeLu_",
        "colab": {
          "base_uri": "https://localhost:8080/",
          "height": 340
        },
        "outputId": "aa1542d1-ff35-42a1-de66-5af8ac672e95"
      },
      "execution_count": 16,
      "outputs": [
        {
          "output_type": "error",
          "ename": "KeyboardInterrupt",
          "evalue": "ignored",
          "traceback": [
            "\u001b[0;31m---------------------------------------------------------------------------\u001b[0m",
            "\u001b[0;31mKeyboardInterrupt\u001b[0m                         Traceback (most recent call last)",
            "\u001b[0;32m<ipython-input-16-6a0ba08a857d>\u001b[0m in \u001b[0;36m<module>\u001b[0;34m()\u001b[0m\n\u001b[1;32m      1\u001b[0m \u001b[0;32mfrom\u001b[0m \u001b[0manytree\u001b[0m\u001b[0;34m.\u001b[0m\u001b[0mexporter\u001b[0m \u001b[0;32mimport\u001b[0m \u001b[0mDotExporter\u001b[0m\u001b[0;34m\u001b[0m\u001b[0;34m\u001b[0m\u001b[0m\n\u001b[0;32m----> 2\u001b[0;31m \u001b[0mDotExporter\u001b[0m\u001b[0;34m(\u001b[0m\u001b[0mroot\u001b[0m\u001b[0;34m)\u001b[0m\u001b[0;34m.\u001b[0m\u001b[0mto_picture\u001b[0m\u001b[0;34m(\u001b[0m\u001b[0;34m\"root.png\"\u001b[0m\u001b[0;34m)\u001b[0m\u001b[0;34m\u001b[0m\u001b[0;34m\u001b[0m\u001b[0m\n\u001b[0m",
            "\u001b[0;32m/usr/local/lib/python3.7/dist-packages/anytree/exporter/dotexporter.py\u001b[0m in \u001b[0;36mto_picture\u001b[0;34m(self, filename)\u001b[0m\n\u001b[1;32m    267\u001b[0m             \u001b[0mdotfilename\u001b[0m \u001b[0;34m=\u001b[0m \u001b[0mdotfile\u001b[0m\u001b[0;34m.\u001b[0m\u001b[0mname\u001b[0m\u001b[0;34m\u001b[0m\u001b[0;34m\u001b[0m\u001b[0m\n\u001b[1;32m    268\u001b[0m             \u001b[0;32mfor\u001b[0m \u001b[0mline\u001b[0m \u001b[0;32min\u001b[0m \u001b[0mself\u001b[0m\u001b[0;34m:\u001b[0m\u001b[0;34m\u001b[0m\u001b[0;34m\u001b[0m\u001b[0m\n\u001b[0;32m--> 269\u001b[0;31m                 \u001b[0mdotfile\u001b[0m\u001b[0;34m.\u001b[0m\u001b[0mwrite\u001b[0m\u001b[0;34m(\u001b[0m\u001b[0;34m(\u001b[0m\u001b[0;34m\"%s\\n\"\u001b[0m \u001b[0;34m%\u001b[0m \u001b[0mline\u001b[0m\u001b[0;34m)\u001b[0m\u001b[0;34m.\u001b[0m\u001b[0mencode\u001b[0m\u001b[0;34m(\u001b[0m\u001b[0;34m\"utf-8\"\u001b[0m\u001b[0;34m)\u001b[0m\u001b[0;34m)\u001b[0m\u001b[0;34m\u001b[0m\u001b[0;34m\u001b[0m\u001b[0m\n\u001b[0m\u001b[1;32m    270\u001b[0m             \u001b[0mdotfile\u001b[0m\u001b[0;34m.\u001b[0m\u001b[0mflush\u001b[0m\u001b[0;34m(\u001b[0m\u001b[0;34m)\u001b[0m\u001b[0;34m\u001b[0m\u001b[0;34m\u001b[0m\u001b[0m\n\u001b[1;32m    271\u001b[0m             \u001b[0mcmd\u001b[0m \u001b[0;34m=\u001b[0m \u001b[0;34m[\u001b[0m\u001b[0;34m\"dot\"\u001b[0m\u001b[0;34m,\u001b[0m \u001b[0mdotfilename\u001b[0m\u001b[0;34m,\u001b[0m \u001b[0;34m\"-T\"\u001b[0m\u001b[0;34m,\u001b[0m \u001b[0mfileformat\u001b[0m\u001b[0;34m,\u001b[0m \u001b[0;34m\"-o\"\u001b[0m\u001b[0;34m,\u001b[0m \u001b[0mfilename\u001b[0m\u001b[0;34m]\u001b[0m\u001b[0;34m\u001b[0m\u001b[0;34m\u001b[0m\u001b[0m\n",
            "\u001b[0;32m/usr/lib/python3.7/subprocess.py\u001b[0m in \u001b[0;36mcheck_call\u001b[0;34m(*popenargs, **kwargs)\u001b[0m\n\u001b[1;32m    356\u001b[0m     \u001b[0mcheck_call\u001b[0m\u001b[0;34m(\u001b[0m\u001b[0;34m[\u001b[0m\u001b[0;34m\"ls\"\u001b[0m\u001b[0;34m,\u001b[0m \u001b[0;34m\"-l\"\u001b[0m\u001b[0;34m]\u001b[0m\u001b[0;34m)\u001b[0m\u001b[0;34m\u001b[0m\u001b[0;34m\u001b[0m\u001b[0m\n\u001b[1;32m    357\u001b[0m     \"\"\"\n\u001b[0;32m--> 358\u001b[0;31m     \u001b[0mretcode\u001b[0m \u001b[0;34m=\u001b[0m \u001b[0mcall\u001b[0m\u001b[0;34m(\u001b[0m\u001b[0;34m*\u001b[0m\u001b[0mpopenargs\u001b[0m\u001b[0;34m,\u001b[0m \u001b[0;34m**\u001b[0m\u001b[0mkwargs\u001b[0m\u001b[0;34m)\u001b[0m\u001b[0;34m\u001b[0m\u001b[0;34m\u001b[0m\u001b[0m\n\u001b[0m\u001b[1;32m    359\u001b[0m     \u001b[0;32mif\u001b[0m \u001b[0mretcode\u001b[0m\u001b[0;34m:\u001b[0m\u001b[0;34m\u001b[0m\u001b[0;34m\u001b[0m\u001b[0m\n\u001b[1;32m    360\u001b[0m         \u001b[0mcmd\u001b[0m \u001b[0;34m=\u001b[0m \u001b[0mkwargs\u001b[0m\u001b[0;34m.\u001b[0m\u001b[0mget\u001b[0m\u001b[0;34m(\u001b[0m\u001b[0;34m\"args\"\u001b[0m\u001b[0;34m)\u001b[0m\u001b[0;34m\u001b[0m\u001b[0;34m\u001b[0m\u001b[0m\n",
            "\u001b[0;32m/usr/lib/python3.7/subprocess.py\u001b[0m in \u001b[0;36mcall\u001b[0;34m(timeout, *popenargs, **kwargs)\u001b[0m\n\u001b[1;32m    339\u001b[0m     \u001b[0;32mwith\u001b[0m \u001b[0mPopen\u001b[0m\u001b[0;34m(\u001b[0m\u001b[0;34m*\u001b[0m\u001b[0mpopenargs\u001b[0m\u001b[0;34m,\u001b[0m \u001b[0;34m**\u001b[0m\u001b[0mkwargs\u001b[0m\u001b[0;34m)\u001b[0m \u001b[0;32mas\u001b[0m \u001b[0mp\u001b[0m\u001b[0;34m:\u001b[0m\u001b[0;34m\u001b[0m\u001b[0;34m\u001b[0m\u001b[0m\n\u001b[1;32m    340\u001b[0m         \u001b[0;32mtry\u001b[0m\u001b[0;34m:\u001b[0m\u001b[0;34m\u001b[0m\u001b[0;34m\u001b[0m\u001b[0m\n\u001b[0;32m--> 341\u001b[0;31m             \u001b[0;32mreturn\u001b[0m \u001b[0mp\u001b[0m\u001b[0;34m.\u001b[0m\u001b[0mwait\u001b[0m\u001b[0;34m(\u001b[0m\u001b[0mtimeout\u001b[0m\u001b[0;34m=\u001b[0m\u001b[0mtimeout\u001b[0m\u001b[0;34m)\u001b[0m\u001b[0;34m\u001b[0m\u001b[0;34m\u001b[0m\u001b[0m\n\u001b[0m\u001b[1;32m    342\u001b[0m         \u001b[0;32mexcept\u001b[0m\u001b[0;34m:\u001b[0m  \u001b[0;31m# Including KeyboardInterrupt, wait handled that.\u001b[0m\u001b[0;34m\u001b[0m\u001b[0;34m\u001b[0m\u001b[0m\n\u001b[1;32m    343\u001b[0m             \u001b[0mp\u001b[0m\u001b[0;34m.\u001b[0m\u001b[0mkill\u001b[0m\u001b[0;34m(\u001b[0m\u001b[0;34m)\u001b[0m\u001b[0;34m\u001b[0m\u001b[0;34m\u001b[0m\u001b[0m\n",
            "\u001b[0;32m/usr/lib/python3.7/subprocess.py\u001b[0m in \u001b[0;36mwait\u001b[0;34m(self, timeout)\u001b[0m\n\u001b[1;32m   1017\u001b[0m             \u001b[0mendtime\u001b[0m \u001b[0;34m=\u001b[0m \u001b[0m_time\u001b[0m\u001b[0;34m(\u001b[0m\u001b[0;34m)\u001b[0m \u001b[0;34m+\u001b[0m \u001b[0mtimeout\u001b[0m\u001b[0;34m\u001b[0m\u001b[0;34m\u001b[0m\u001b[0m\n\u001b[1;32m   1018\u001b[0m         \u001b[0;32mtry\u001b[0m\u001b[0;34m:\u001b[0m\u001b[0;34m\u001b[0m\u001b[0;34m\u001b[0m\u001b[0m\n\u001b[0;32m-> 1019\u001b[0;31m             \u001b[0;32mreturn\u001b[0m \u001b[0mself\u001b[0m\u001b[0;34m.\u001b[0m\u001b[0m_wait\u001b[0m\u001b[0;34m(\u001b[0m\u001b[0mtimeout\u001b[0m\u001b[0;34m=\u001b[0m\u001b[0mtimeout\u001b[0m\u001b[0;34m)\u001b[0m\u001b[0;34m\u001b[0m\u001b[0;34m\u001b[0m\u001b[0m\n\u001b[0m\u001b[1;32m   1020\u001b[0m         \u001b[0;32mexcept\u001b[0m \u001b[0mKeyboardInterrupt\u001b[0m\u001b[0;34m:\u001b[0m\u001b[0;34m\u001b[0m\u001b[0;34m\u001b[0m\u001b[0m\n\u001b[1;32m   1021\u001b[0m             \u001b[0;31m# https://bugs.python.org/issue25942\u001b[0m\u001b[0;34m\u001b[0m\u001b[0;34m\u001b[0m\u001b[0;34m\u001b[0m\u001b[0m\n",
            "\u001b[0;32m/usr/lib/python3.7/subprocess.py\u001b[0m in \u001b[0;36m_wait\u001b[0;34m(self, timeout)\u001b[0m\n\u001b[1;32m   1651\u001b[0m                         \u001b[0;32mif\u001b[0m \u001b[0mself\u001b[0m\u001b[0;34m.\u001b[0m\u001b[0mreturncode\u001b[0m \u001b[0;32mis\u001b[0m \u001b[0;32mnot\u001b[0m \u001b[0;32mNone\u001b[0m\u001b[0;34m:\u001b[0m\u001b[0;34m\u001b[0m\u001b[0;34m\u001b[0m\u001b[0m\n\u001b[1;32m   1652\u001b[0m                             \u001b[0;32mbreak\u001b[0m  \u001b[0;31m# Another thread waited.\u001b[0m\u001b[0;34m\u001b[0m\u001b[0;34m\u001b[0m\u001b[0m\n\u001b[0;32m-> 1653\u001b[0;31m                         \u001b[0;34m(\u001b[0m\u001b[0mpid\u001b[0m\u001b[0;34m,\u001b[0m \u001b[0msts\u001b[0m\u001b[0;34m)\u001b[0m \u001b[0;34m=\u001b[0m \u001b[0mself\u001b[0m\u001b[0;34m.\u001b[0m\u001b[0m_try_wait\u001b[0m\u001b[0;34m(\u001b[0m\u001b[0;36m0\u001b[0m\u001b[0;34m)\u001b[0m\u001b[0;34m\u001b[0m\u001b[0;34m\u001b[0m\u001b[0m\n\u001b[0m\u001b[1;32m   1654\u001b[0m                         \u001b[0;31m# Check the pid and loop as waitpid has been known to\u001b[0m\u001b[0;34m\u001b[0m\u001b[0;34m\u001b[0m\u001b[0;34m\u001b[0m\u001b[0m\n\u001b[1;32m   1655\u001b[0m                         \u001b[0;31m# return 0 even without WNOHANG in odd situations.\u001b[0m\u001b[0;34m\u001b[0m\u001b[0;34m\u001b[0m\u001b[0;34m\u001b[0m\u001b[0m\n",
            "\u001b[0;32m/usr/lib/python3.7/subprocess.py\u001b[0m in \u001b[0;36m_try_wait\u001b[0;34m(self, wait_flags)\u001b[0m\n\u001b[1;32m   1609\u001b[0m             \u001b[0;34m\"\"\"All callers to this function MUST hold self._waitpid_lock.\"\"\"\u001b[0m\u001b[0;34m\u001b[0m\u001b[0;34m\u001b[0m\u001b[0m\n\u001b[1;32m   1610\u001b[0m             \u001b[0;32mtry\u001b[0m\u001b[0;34m:\u001b[0m\u001b[0;34m\u001b[0m\u001b[0;34m\u001b[0m\u001b[0m\n\u001b[0;32m-> 1611\u001b[0;31m                 \u001b[0;34m(\u001b[0m\u001b[0mpid\u001b[0m\u001b[0;34m,\u001b[0m \u001b[0msts\u001b[0m\u001b[0;34m)\u001b[0m \u001b[0;34m=\u001b[0m \u001b[0mos\u001b[0m\u001b[0;34m.\u001b[0m\u001b[0mwaitpid\u001b[0m\u001b[0;34m(\u001b[0m\u001b[0mself\u001b[0m\u001b[0;34m.\u001b[0m\u001b[0mpid\u001b[0m\u001b[0;34m,\u001b[0m \u001b[0mwait_flags\u001b[0m\u001b[0;34m)\u001b[0m\u001b[0;34m\u001b[0m\u001b[0;34m\u001b[0m\u001b[0m\n\u001b[0m\u001b[1;32m   1612\u001b[0m             \u001b[0;32mexcept\u001b[0m \u001b[0mChildProcessError\u001b[0m\u001b[0;34m:\u001b[0m\u001b[0;34m\u001b[0m\u001b[0;34m\u001b[0m\u001b[0m\n\u001b[1;32m   1613\u001b[0m                 \u001b[0;31m# This happens if SIGCLD is set to be ignored or waiting\u001b[0m\u001b[0;34m\u001b[0m\u001b[0;34m\u001b[0m\u001b[0;34m\u001b[0m\u001b[0m\n",
            "\u001b[0;31mKeyboardInterrupt\u001b[0m: "
          ]
        }
      ]
    },
    {
      "cell_type": "code",
      "source": [
        "import numpy as np\n",
        "import pandas as pd"
      ],
      "metadata": {
        "id": "YlA4T8jqaqZ_"
      },
      "execution_count": 9,
      "outputs": []
    },
    {
      "cell_type": "code",
      "source": [
        "df = pd.read_excel('/content/drive/My Drive/Colab Notebooks/Avalara_goods_and_services.xlsx', 'goods_and_services', header=1)\n",
        "data_array = np.array(df)\n",
        "avalara_file = data_array[1706:2547]"
      ],
      "metadata": {
        "id": "GkslZk1wcLqj"
      },
      "execution_count": 10,
      "outputs": []
    },
    {
      "cell_type": "code",
      "source": [
        "create_node_key_vf = np.vectorize(create_node_key)\n",
        "avalara_file = np.column_stack((avalara_file, create_node_key_vf(avalara_file[:,1])))"
      ],
      "metadata": {
        "id": "2Ov1SuF8bExA"
      },
      "execution_count": 12,
      "outputs": []
    },
    {
      "cell_type": "code",
      "source": [
        "avalara_file[0]"
      ],
      "metadata": {
        "colab": {
          "base_uri": "https://localhost:8080/"
        },
        "id": "IcYxq33Za8xk",
        "outputId": "ab3b709a-310c-49b5-f3ac-40e24fc13910"
      },
      "execution_count": 96,
      "outputs": [
        {
          "output_type": "execute_result",
          "data": {
            "text/plain": [
              "array(['PH050639',\n",
              "       'Health care products-over the counter-medicinal group 1-blood pressure testing apparatus',\n",
              "       'Over-the-counter medicinal products (drug facts and /or ingredients are included when deemed to be a medicine, for home use)',\n",
              "       '10100011000000010001000000'], dtype=object)"
            ]
          },
          "metadata": {},
          "execution_count": 96
        }
      ]
    },
    {
      "cell_type": "code",
      "source": [
        "def search_tree(key,level):\n",
        "    key_match = {}\n",
        "    # key_match[\"Commodity Title\"] = {}\n",
        "    # key_match[\"Class Title\"] = {}\n",
        "    # key_match[\"Family Title\"] = {}\n",
        "    # key_match[\"Segment Title\"] = {}\n",
        "    \n",
        "    for child in nodes[level].children:\n",
        "          if(cmp_key(child.name,key)):\n",
        "            key_match[child.name] = child.children\n",
        "    \n",
        "    return key_match\n",
        "\n",
        "\n",
        "\n",
        "\n",
        "\n"
      ],
      "metadata": {
        "id": "WaecoK7Hjmrb"
      },
      "execution_count": 60,
      "outputs": []
    },
    {
      "cell_type": "code",
      "source": [
        "for i in avalara_file:\n",
        "    print (i)\n",
        "    break"
      ],
      "metadata": {
        "colab": {
          "base_uri": "https://localhost:8080/"
        },
        "id": "7yJMq1UsB2Bf",
        "outputId": "c125cd10-d3bd-454c-867f-a32ac530e78c"
      },
      "execution_count": 110,
      "outputs": [
        {
          "output_type": "stream",
          "name": "stdout",
          "text": [
            "['PH050639'\n",
            " 'Health care products-over the counter-medicinal group 1-blood pressure testing apparatus'\n",
            " 'Over-the-counter medicinal products (drug facts and /or ingredients are included when deemed to be a medicine, for home use)'\n",
            " '10100011000000010001000000']\n"
          ]
        }
      ]
    },
    {
      "cell_type": "code",
      "source": [
        "ans = {}\n",
        "count = 0 \n",
        "total_length_avalara_file = len(avalara_file)\n",
        "per_done = 0\n",
        "def cmp_avalara_unspsc():\n",
        "  global ans,count,total_length_avalara_file,per_done\n",
        "  for data in avalara_file:\n",
        "    count+=1\n",
        "    per_done = count * 100 /total_length_avalara_file\n",
        "    levels = [\"Segment Title\",\"Family Title\",\"Class Title\",\"Commodity Title\"]\n",
        "    for level in levels:\n",
        "      for match in (search_tree(data[3],level)).values():\n",
        "        avalara_desc = data[1]\n",
        "        unspsc_desc = match[0].data[\"title\"]\n",
        "        avalara_length = len(avalara_desc.split(\" \"))\n",
        "        unspsc_length = len(unspsc_desc.split(\" \"))\n",
        "        min_length = unspsc_length if (avalara_length > unspsc_length) else avalara_length\n",
        "        thresold = 0.6\n",
        "        match_perc = (longestCommonSubsequence(unspsc_desc,avalara_desc))/min_length\n",
        "        if (match_perc >= thresold):\n",
        "            if avalara_desc in ans:\n",
        "              if level in ans[avalara_desc]:\n",
        "                ans[avalara_desc][level].append({\"unspsc_text\" : unspsc_desc,\"match_ratio\" : match_perc })\n",
        "              else:\n",
        "                ans[avalara_desc][level] = []\n",
        "                ans[avalara_desc][level].append({\"unspsc_text\" : unspsc_desc,\"match_ratio\" : match_perc })\n",
        "\n",
        "            else:\n",
        "              ans[avalara_desc] ={}\n",
        "              ans[avalara_desc][level] = []\n",
        "              ans[avalara_desc][level].append({\"unspsc_text\" : unspsc_desc,\"match_ratio\" : match_perc,\"min_length\" : min_length })\n"
      ],
      "metadata": {
        "id": "YnuYSmQulCjP"
      },
      "execution_count": 153,
      "outputs": []
    },
    {
      "cell_type": "code",
      "source": [
        "cmp_avalara_unspsc()"
      ],
      "metadata": {
        "id": "U59Zp5ztozx_"
      },
      "execution_count": 154,
      "outputs": []
    },
    {
      "cell_type": "code",
      "source": [
        "\n",
        "def longestCommonSubsequence(text1, text2):\n",
        "\n",
        "    text1 = text1.lower().split(\" \")\n",
        "    text2 = text2.lower().split(\" \")\n",
        "    \n",
        "    if len(text1) > len(text2):\n",
        "        text2,text1 = text1,text2  \n",
        "    arr = [[0 for i in range(len(text2)+1)] for j in range(2)]\n",
        "    \n",
        "    b=1\n",
        "    for i in range (1,len(text1)+1):    \n",
        "        b= i & 1\n",
        "        for j in range(1,len(text2)+1):\n",
        "            if text1[i-1] == text2[j-1]:\n",
        "                arr[1-b][j]= arr[b][j-1]+1\n",
        "            else:\n",
        "                arr[1-b][j] = max(arr[b][j],arr[1-b][j-1])\n",
        "    \n",
        "    return arr[1-b][-1]"
      ],
      "metadata": {
        "id": "a9uw9GJEmpLy"
      },
      "execution_count": 127,
      "outputs": []
    },
    {
      "cell_type": "code",
      "source": [
        "ans"
      ],
      "metadata": {
        "id": "M41NjvBsbI6T"
      },
      "execution_count": null,
      "outputs": []
    },
    {
      "cell_type": "code",
      "source": [
        "# Save the DataFrame to a file on the Colab backend.\n",
        "import json\n",
        "with open('ans.json', 'w') as f:\n",
        "  f.write(json.dumps(ans) )\n"
      ],
      "metadata": {
        "id": "BwpPZZbBbQka"
      },
      "execution_count": 155,
      "outputs": []
    },
    {
      "cell_type": "code",
      "source": [
        "from anytree.search import find \n",
        "list(map(lambda child_nodes: find(child_nodes,lambda node: node.name == \"Land and Buildings and Structures and Thoroughfares\"),root.children))"
      ],
      "metadata": {
        "id": "nUaUXREPPfV9"
      },
      "execution_count": null,
      "outputs": []
    },
    {
      "cell_type": "code",
      "source": [
        "n = Node(\"n\")\n",
        "a = Node(\"a\", parent=n)\n",
        "b = Node(\"b\", parent=n)\n",
        "c = Node(\"c\", parent=n)\n",
        "d = Node(\"d\", parent=c)\n",
        "n.children"
      ],
      "metadata": {
        "colab": {
          "base_uri": "https://localhost:8080/"
        },
        "id": "7HGYGbvxS3ZU",
        "outputId": "1d26c53c-3bee-48e0-ad95-582bbb0fbefd"
      },
      "execution_count": null,
      "outputs": [
        {
          "output_type": "execute_result",
          "data": {
            "text/plain": [
              "(Node('/n/a'), Node('/n/b'), Node('/n/c'))"
            ]
          },
          "metadata": {},
          "execution_count": 27
        }
      ]
    },
    {
      "cell_type": "code",
      "source": [
        ""
      ],
      "metadata": {
        "colab": {
          "base_uri": "https://localhost:8080/"
        },
        "id": "7jp2eKOvTM6W",
        "outputId": "0e37f95d-8686-4994-bf53-c081062feb73"
      },
      "execution_count": null,
      "outputs": [
        {
          "output_type": "execute_result",
          "data": {
            "text/plain": [
              "Node('/n/a')"
            ]
          },
          "metadata": {},
          "execution_count": 29
        }
      ]
    }
  ]
}