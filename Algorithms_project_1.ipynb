{
  "nbformat": 4,
  "nbformat_minor": 0,
  "metadata": {
    "colab": {
      "name": "Algorithms_project_1.ipynb",
      "provenance": [],
      "include_colab_link": true
    },
    "kernelspec": {
      "name": "python3",
      "display_name": "Python 3"
    },
    "language_info": {
      "name": "python"
    }
  },
  "cells": [
    {
      "cell_type": "markdown",
      "metadata": {
        "id": "view-in-github",
        "colab_type": "text"
      },
      "source": [
        "<a href=\"https://colab.research.google.com/github/kasivisu4/NEU_CLASS/blob/main/Algorithms_project_1.ipynb\" target=\"_parent\"><img src=\"https://colab.research.google.com/assets/colab-badge.svg\" alt=\"Open In Colab\"/></a>"
      ]
    },
    {
      "cell_type": "code",
      "source": [
        "from google.colab import drive\n",
        "drive.mount('/content/drive')"
      ],
      "metadata": {
        "colab": {
          "base_uri": "https://localhost:8080/"
        },
        "id": "wDc7TM9BYMQ7",
        "outputId": "5e9dc1b4-32dc-4cda-92a8-f46ee2cfbff4"
      },
      "execution_count": null,
      "outputs": [
        {
          "output_type": "stream",
          "name": "stdout",
          "text": [
            "Mounted at /content/drive\n"
          ]
        }
      ]
    },
    {
      "cell_type": "code",
      "source": [
        "pip install anytree"
      ],
      "metadata": {
        "colab": {
          "base_uri": "https://localhost:8080/"
        },
        "id": "IvZpY9N4ek1M",
        "outputId": "48ce801c-90e1-4afa-b35b-60610d05e229"
      },
      "execution_count": null,
      "outputs": [
        {
          "output_type": "stream",
          "name": "stdout",
          "text": [
            "Collecting anytree\n",
            "  Downloading anytree-2.8.0-py2.py3-none-any.whl (41 kB)\n",
            "\u001b[?25l\r\u001b[K     |███████▉                        | 10 kB 10.5 MB/s eta 0:00:01\r\u001b[K     |███████████████▊                | 20 kB 14.0 MB/s eta 0:00:01\r\u001b[K     |███████████████████████▋        | 30 kB 18.3 MB/s eta 0:00:01\r\u001b[K     |███████████████████████████████▍| 40 kB 13.2 MB/s eta 0:00:01\r\u001b[K     |████████████████████████████████| 41 kB 351 kB/s \n",
            "\u001b[?25hRequirement already satisfied: six>=1.9.0 in /usr/local/lib/python3.7/dist-packages (from anytree) (1.15.0)\n",
            "Installing collected packages: anytree\n",
            "Successfully installed anytree-2.8.0\n"
          ]
        }
      ]
    },
    {
      "cell_type": "code",
      "source": [
        "import csv\n",
        "from anytree import Node, RenderTree"
      ],
      "metadata": {
        "id": "Y5V8Krl3eNRT"
      },
      "execution_count": null,
      "outputs": []
    },
    {
      "cell_type": "code",
      "source": [
        "root=Node(\"root\")\n",
        "nodes={}\n",
        "nodes[root.name]=root"
      ],
      "metadata": {
        "id": "Qds_pFhzhiIR"
      },
      "execution_count": null,
      "outputs": []
    },
    {
      "cell_type": "code",
      "source": [
        "parent_key=\"\"\n",
        "def create_Node(data,index):\n",
        "    try:\n",
        "      if (data[\"key\"]==''):\n",
        "          return\n",
        "\n",
        "      global parent_key\n",
        "      if (index == 0):\n",
        "          if(data[\"key\"] in nodes):\n",
        "            parent_key = nodes[data[\"key\"]]\n",
        "            return\n",
        "          else:\n",
        "            nodes[data[\"key\"]] = Node(data[\"key\"],parent=root,data=data)\n",
        "            parent_key = nodes[data[\"key\"]]\n",
        "            return\n",
        "            \n",
        "      else:\n",
        "        \n",
        "        nodes[data[\"key\"]] = Node(data[\"key\"],parent=parent_key,data=data)\n",
        "    except:\n",
        "          print(data[\"key\"],nodes[parent_key])\n",
        "          return -1"
      ],
      "metadata": {
        "id": "d6F-DGhewIM3"
      },
      "execution_count": null,
      "outputs": []
    },
    {
      "cell_type": "code",
      "source": [
        "with open('/content/drive/My Drive/Colab Notebooks/UNSPSC_English.csv',encoding=\"utf8\") as unspsc_file:\n",
        "    [ next(unspsc_file) for _ in range(9)]   \n",
        "    unspsc_reader = csv.DictReader(unspsc_file, delimiter=',')\n",
        "    [ next(unspsc_reader) for _ in range(2)] \n",
        "    titles=[[\"Segment Title\",\"Segment\"],[\"Family Title\",\"Family\"]]\n",
        "    for line in unspsc_reader:\n",
        "      create_Node({\"key\":line[titles[0][0]],\"title\" : line[titles[0][1]]},0)\n",
        "      for index in range(1,len(titles)):\n",
        "        if(create_Node({\"key\":line[titles[index][0]],\"title\" : line[titles[index][1]]},index) == -1):\n",
        "          continue\n",
        "      parent_key = \"\"\n",
        "          \n"
      ],
      "metadata": {
        "id": "rO05LAG2X9JP"
      },
      "execution_count": null,
      "outputs": []
    },
    {
      "cell_type": "code",
      "source": [
        "from anytree.exporter import DotExporter\n",
        "DotExporter(root).to_picture(\"root.png\")"
      ],
      "metadata": {
        "id": "5gu-98LgeLu_"
      },
      "execution_count": null,
      "outputs": []
    },
    {
      "cell_type": "code",
      "source": [
        "print(RenderTree(root))"
      ],
      "metadata": {
        "colab": {
          "base_uri": "https://localhost:8080/"
        },
        "id": "r67wSihmME-P",
        "outputId": "20f1fb03-5c11-40d7-bf64-ccb7372a7289"
      },
      "execution_count": null,
      "outputs": [
        {
          "output_type": "stream",
          "name": "stderr",
          "text": [
            "IOPub data rate exceeded.\n",
            "The notebook server will temporarily stop sending output\n",
            "to the client in order to avoid crashing it.\n",
            "To change this limit, set the config variable\n",
            "`--NotebookApp.iopub_data_rate_limit`.\n",
            "\n",
            "Current values:\n",
            "NotebookApp.iopub_data_rate_limit=1000000.0 (bytes/sec)\n",
            "NotebookApp.rate_limit_window=3.0 (secs)\n",
            "\n"
          ]
        }
      ]
    },
    {
      "cell_type": "code",
      "source": [
        "from anytree.search import find \n",
        "list(map(lambda child_nodes: find(child_nodes,lambda node: node.name == \"Land and Buildings and Structures and Thoroughfares\"),root.children))"
      ],
      "metadata": {
        "id": "nUaUXREPPfV9"
      },
      "execution_count": null,
      "outputs": []
    },
    {
      "cell_type": "code",
      "source": [
        "n = Node(\"n\")\n",
        "a = Node(\"a\", parent=n)\n",
        "b = Node(\"b\", parent=n)\n",
        "c = Node(\"c\", parent=n)\n",
        "d = Node(\"d\", parent=c)\n",
        "n.children"
      ],
      "metadata": {
        "colab": {
          "base_uri": "https://localhost:8080/"
        },
        "id": "7HGYGbvxS3ZU",
        "outputId": "1d26c53c-3bee-48e0-ad95-582bbb0fbefd"
      },
      "execution_count": null,
      "outputs": [
        {
          "output_type": "execute_result",
          "data": {
            "text/plain": [
              "(Node('/n/a'), Node('/n/b'), Node('/n/c'))"
            ]
          },
          "metadata": {},
          "execution_count": 27
        }
      ]
    },
    {
      "cell_type": "code",
      "source": [
        ""
      ],
      "metadata": {
        "colab": {
          "base_uri": "https://localhost:8080/"
        },
        "id": "7jp2eKOvTM6W",
        "outputId": "0e37f95d-8686-4994-bf53-c081062feb73"
      },
      "execution_count": null,
      "outputs": [
        {
          "output_type": "execute_result",
          "data": {
            "text/plain": [
              "Node('/n/a')"
            ]
          },
          "metadata": {},
          "execution_count": 29
        }
      ]
    }
  ]
}