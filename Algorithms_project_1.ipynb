{
  "nbformat": 4,
  "nbformat_minor": 0,
  "metadata": {
    "colab": {
      "name": "Algorithms_project_1.ipynb",
      "provenance": [],
      "include_colab_link": true
    },
    "kernelspec": {
      "name": "python3",
      "display_name": "Python 3"
    },
    "language_info": {
      "name": "python"
    }
  },
  "cells": [
    {
      "cell_type": "markdown",
      "metadata": {
        "id": "view-in-github",
        "colab_type": "text"
      },
      "source": [
        "<a href=\"https://colab.research.google.com/github/kasivisu4/NEU_CLASS/blob/main/Algorithms_project_1.ipynb\" target=\"_parent\"><img src=\"https://colab.research.google.com/assets/colab-badge.svg\" alt=\"Open In Colab\"/></a>"
      ]
    },
    {
      "cell_type": "code",
      "execution_count": null,
      "metadata": {
        "id": "6HebTtWUTovB",
        "outputId": "cfcdaa60-2440-425e-d47f-d32343d262cc",
        "colab": {
          "base_uri": "https://localhost:8080/"
        }
      },
      "outputs": [
        {
          "output_type": "stream",
          "name": "stdout",
          "text": [
            "HI\n"
          ]
        }
      ],
      "source": [
        "print(\"HI\");"
      ]
    },
    {
      "cell_type": "code",
      "source": [
        ""
      ],
      "metadata": {
        "id": "KqSyDj_RUTh9"
      },
      "execution_count": null,
      "outputs": []
    },
    {
      "cell_type": "code",
      "source": [
        "from google.colab import drive\n",
        "drive.mount('/content/drive')"
      ],
      "metadata": {
        "colab": {
          "base_uri": "https://localhost:8080/"
        },
        "id": "wDc7TM9BYMQ7",
        "outputId": "fbef9b06-995b-4939-c55c-8bcaa13beaf7"
      },
      "execution_count": 1,
      "outputs": [
        {
          "output_type": "stream",
          "name": "stdout",
          "text": [
            "Mounted at /content/drive\n"
          ]
        }
      ]
    },
    {
      "cell_type": "code",
      "source": [
        "pip install anytree"
      ],
      "metadata": {
        "colab": {
          "base_uri": "https://localhost:8080/"
        },
        "id": "IvZpY9N4ek1M",
        "outputId": "3aabc43b-41d8-4923-b9b4-fdcaa859ba9a"
      },
      "execution_count": 7,
      "outputs": [
        {
          "output_type": "stream",
          "name": "stdout",
          "text": [
            "Collecting anytree\n",
            "  Downloading anytree-2.8.0-py2.py3-none-any.whl (41 kB)\n",
            "\u001b[?25l\r\u001b[K     |███████▉                        | 10 kB 21.9 MB/s eta 0:00:01\r\u001b[K     |███████████████▊                | 20 kB 12.4 MB/s eta 0:00:01\r\u001b[K     |███████████████████████▋        | 30 kB 7.0 MB/s eta 0:00:01\r\u001b[K     |███████████████████████████████▍| 40 kB 6.2 MB/s eta 0:00:01\r\u001b[K     |████████████████████████████████| 41 kB 226 kB/s \n",
            "\u001b[?25hRequirement already satisfied: six>=1.9.0 in /usr/local/lib/python3.7/dist-packages (from anytree) (1.15.0)\n",
            "Installing collected packages: anytree\n",
            "Successfully installed anytree-2.8.0\n"
          ]
        }
      ]
    },
    {
      "cell_type": "code",
      "source": [
        "import csv\n",
        "from anytree import Node, RenderTree"
      ],
      "metadata": {
        "id": "Y5V8Krl3eNRT"
      },
      "execution_count": 9,
      "outputs": []
    },
    {
      "cell_type": "code",
      "source": [
        "with open('/content/drive/My Drive/Colab Notebooks/UNSPSC_English.csv',encoding=\"utf8\") as unspsc_file:\n",
        "    [ next(unspsc_file) for _ in range(9)]  \n",
        "    unspsc_reader = csv.DictReader(unspsc_file, delimiter=',')\n",
        "    titles=[[\"Segment\",\"Segment Title\"],[\"family\",\"Family Title\"],[\"Class\",\"Class Title\"],[\"Commodity\",\"Commodity Title\"]]\n",
        "    for line in unspsc_reader:\n",
        "      print(line)\n",
        "      break\n"
      ],
      "metadata": {
        "colab": {
          "base_uri": "https://localhost:8080/"
        },
        "id": "rO05LAG2X9JP",
        "outputId": "8c6fae35-6180-4ddc-9a18-0859ef58051a"
      },
      "execution_count": 6,
      "outputs": [
        {
          "output_type": "stream",
          "name": "stdout",
          "text": [
            "OrderedDict([('Version', 'UNSPSC v23_0701'), ('Key', '100001'), ('Segment', '10000000'), ('Segment Title', 'Live Plant and Animal Material and Accessories and Supplies'), ('Segment Definition', 'This segment includes live, wild and domesticated, seeds and plants and animals. This segment also includes materials and equipment used in the care, containment and feeding of live plants and animals.'), ('Family', ''), ('Family Title', ''), ('Family Definition', ''), ('Column1', ''), ('Class', ''), ('Class Title', ''), ('Class Definition', ''), ('Commodity', ''), ('Commodity Title', ''), ('Definition', ''), ('Synonym', '活植物、活动物及其附件和用品, 活植物、活動物及其附件和用品, Levende og animalsk materiale, tilbehør og forsyning, Levende planten &amp; dieren materialen. Toebehoren &amp; toeleveringen, Fournitures, accessoires et matériel pour plantes et animaux vivants, Lebende Pflanzen und Tiermaterial und Zubehör und Bedarf, Élő növényi és állati eredetű anyagok, tartozékok és felszerelések, Piante e Animali, Accessori e Forniture, 生植物（植木）、動物の資材、付属品および供給品, 살아  있는  동식물  및  동식물성 생산품, Levende dyr og planter, tilbehør og materiell, Materiais, Acessórios e Suprimentos de Plantas e Animais Vivos, Material Vivo Vegetal y Animal, Accesorios y Suministros, Levande växter och djur samt tillbehör och materiel'), ('Acronym', '')])\n"
          ]
        }
      ]
    },
    {
      "cell_type": "code",
      "source": [
        "def create_Node(data):\n",
        "    if not check_Parent(data[\"segment_title\"]):\n",
        "        nodes[data[\"segment_title\"]] = Node(data[\"segment_title\"],parent=root,data=data)\n",
        "    else:\n",
        "        nodes[data[\"family\"]]\n",
        "    \n",
        "\n",
        "def check_Parent(data_title):\n",
        "    if data_title in nodes:\n",
        "        return True\n",
        "    return False\n",
        "    "
      ],
      "metadata": {
        "id": "2HVTv3BIerMN"
      },
      "execution_count": null,
      "outputs": []
    },
    {
      "cell_type": "code",
      "source": [
        ""
      ],
      "metadata": {
        "id": "5gu-98LgeLu_"
      },
      "execution_count": null,
      "outputs": []
    }
  ]
}